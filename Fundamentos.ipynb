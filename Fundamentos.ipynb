{
 "cells": [
  {
   "cell_type": "code",
   "execution_count": null,
   "metadata": {},
   "outputs": [],
   "source": [
    "print(\"Ola mundo\")"
   ]
  },
  {
   "cell_type": "code",
   "execution_count": null,
   "metadata": {},
   "outputs": [],
   "source": [
    "print(\"Voce é \" + 3 * \"muito \" + \"legal\")"
   ]
  },
  {
   "cell_type": "code",
   "execution_count": null,
   "metadata": {},
   "outputs": [],
   "source": [
    "print ({\"nome\": \"Pedro\", \"idade\" : 22})\n"
   ]
  },
  {
   "cell_type": "code",
   "execution_count": null,
   "metadata": {},
   "outputs": [],
   "source": [
    "print([1,2,3])\n"
   ]
  },
  {
   "cell_type": "code",
   "execution_count": null,
   "metadata": {},
   "outputs": [],
   "source": [
    "#VARIAVEIS"
   ]
  },
  {
   "cell_type": "code",
   "execution_count": null,
   "metadata": {},
   "outputs": [],
   "source": [
    "a=2\n",
    "b=3.2\n",
    "print(a+b)\n",
    "\n",
    "a = \"sou uma string\"\n",
    "print (a)\n",
    "print"
   ]
  },
  {
   "cell_type": "code",
   "execution_count": null,
   "metadata": {},
   "outputs": [],
   "source": [
    "print('tião gay ' * 4)"
   ]
  },
  {
   "cell_type": "code",
   "execution_count": null,
   "metadata": {},
   "outputs": [],
   "source": [
    "print({\"nome\": \"pedro\", \"idade\":\"24\"})"
   ]
  },
  {
   "cell_type": "code",
   "execution_count": null,
   "metadata": {},
   "outputs": [],
   "source": [
    "a=10\n",
    "b=5.2\n",
    "\n",
    "print"
   ]
  },
  {
   "cell_type": "code",
   "execution_count": null,
   "metadata": {},
   "outputs": [],
   "source": [
    "#Comentários"
   ]
  },
  {
   "cell_type": "code",
   "execution_count": null,
   "metadata": {},
   "outputs": [],
   "source": [
    "# Minhas variáveis \n",
    "salário=30\n",
    "despesas=20\n",
    "\"\"\"\n",
    "\n",
    "a ideia é calculular quanto sobrou no mes! \n",
    "\n",
    "\"\"\"\n",
    "print(salário - despesas)\n",
    "\n",
    "#print(\"fim\")\n",
    "print(\"fim de verdade\")\n"
   ]
  },
  {
   "cell_type": "code",
   "execution_count": null,
   "metadata": {},
   "outputs": [],
   "source": [
    "#Operadores Arítméticos \n",
    "\n",
    "print(2 + 3)\n",
    "print(4 - 7)\n",
    "print(2 * 3.5)\n",
    "print(9.4 / 3.3)\n",
    "print(9.4 // 3)\n",
    "print(2 ** 8)\n",
    "print(10 % 3)\n",
    "\n",
    "a=12\n",
    "b=a\n",
    "print(a+b)\n",
    "\n",
    "\n"
   ]
  },
  {
   "cell_type": "code",
   "execution_count": null,
   "metadata": {},
   "outputs": [],
   "source": [
    "#desafios \n",
    "salário = 3450.45\n",
    "despesas = 2456.2\n",
    "\n",
    "percentual_comprometido = (despesas / salário * 100)\n",
    "percentual_comprometido\n"
   ]
  },
  {
   "cell_type": "code",
   "execution_count": null,
   "metadata": {},
   "outputs": [],
   "source": [
    "#Operadores relacionais \n",
    "\n",
    "3>4\n",
    "4>=3\n",
    "3!=3.1\n",
    "3==3 \n",
    "3 == \"3\"\n",
    "\n"
   ]
  },
  {
   "cell_type": "code",
   "execution_count": null,
   "metadata": {},
   "outputs": [],
   "source": [
    "#Operadores de atribuição \n",
    "\n",
    "a = 3 \n",
    "a = a + 7\n",
    "print(a)\n",
    "\n",
    "a += 5\n",
    "print(a)\n",
    "\n",
    "a-=3\n",
    "print(a)\n",
    "\n",
    "a*=2\n",
    "print(a)\n",
    "\n",
    "a //=7.2\n",
    "print (a)\n",
    "\n",
    "a %= 4\n",
    "print (a)\n",
    "\n",
    "a **=8\n",
    "print (a)\n",
    "\n"
   ]
  },
  {
   "cell_type": "code",
   "execution_count": null,
   "metadata": {},
   "outputs": [],
   "source": [
    "#operadores lógicos \n",
    "\n",
    "True or False\n",
    "7 != 7  and 2<3\n",
    "\n",
    "True and True #true \n",
    "True and False #false \n",
    "False and True #false \n",
    "False and False #false\n",
    "\n",
    "#tabela verdade do or \n",
    "\n",
    "True or False\n",
    "True or True \n",
    "False or True\n",
    "False or False\n",
    "False or False or True\n",
    "\n",
    "#Tabela or exclusivo ou um ou outro quando for igual é false \n",
    "\n",
    "True != True\n",
    "True != False\n",
    "False != True\n",
    "False != False \n",
    "\n",
    "#Operador de Negação \n",
    "not True \n",
    "not False \n",
    "\n",
    "not 0 \n",
    "not 1\n",
    "not not -1\n",
    "not not True\n",
    "\n",
    "#Cuidado! \n",
    "True & False\n",
    "True | False\n",
    "True ^ False \n",
    "\n",
    "# um pouco de realidade \n",
    "saldo = 1000 \n",
    "salário = 4000\n",
    "despesas = 3967 \n",
    "\n",
    "meta = saldo > 0 and salário - despesas >= 0.2 * salário \n",
    "meta\n"
   ]
  },
  {
   "cell_type": "code",
   "execution_count": null,
   "metadata": {},
   "outputs": [],
   "source": []
  },
  {
   "cell_type": "code",
   "execution_count": null,
   "metadata": {},
   "outputs": [],
   "source": [
    "#desafia operadores lógicos \n",
    "\n",
    "trab_terça = True\n",
    "trab_quinta= True\n",
    "\n",
    "tv_50 = trab_terça and trab_quinta\n",
    "sorvete = trab_terça or trab_quinta \n",
    "tv_32 = not trab_quinta and trab_terça or not trab_terça and trab_quinta  # tv_32 = trab_terça != trab_quinta \n",
    "mais_saudável = not sorvete\n",
    "\n",
    "\n",
    "\n",
    "\n",
    "print ( \"tv_50  = {} tv_32  = {} sorvete {} mais_saudável {}\" .format (tv_50, tv_32, sorvete, mais_saudável))\n"
   ]
  },
  {
   "cell_type": "code",
   "execution_count": null,
   "metadata": {},
   "outputs": [],
   "source": [
    "esta_chovendo = False\n",
    "\n",
    "\"hoje estou com as roupas \" + (\"molhadas\" if esta_chovendo else \"secas\")\n"
   ]
  },
  {
   "cell_type": "code",
   "execution_count": null,
   "metadata": {},
   "outputs": [],
   "source": [
    "#Lista\n",
    "\n",
    "lista = [1,2,3,4,5]\n",
    "\n",
    "20 in lista\n",
    "20 not in lista\n",
    "\n",
    "lista_a = [1,2,3,]\n",
    "lista_b = lista_a\n",
    "\n",
    "lista_a is not lista_b\n",
    "\n",
    "2 in lista_b\n",
    "\n",
    "lista_a [0] == 1"
   ]
  },
  {
   "cell_type": "code",
   "execution_count": null,
   "metadata": {},
   "outputs": [],
   "source": [
    "# Buildings\n",
    "\n",
    "type(1)\n",
    "__builtins__.type(\"fala Galera!\")\n",
    "__builtins__.print(10/3)\n",
    "\n",
    "help(dir)\n",
    "\n",
    "dir()\n"
   ]
  },
  {
   "cell_type": "code",
   "execution_count": 23,
   "metadata": {},
   "outputs": [
    {
     "name": "stdout",
     "output_type": "stream",
     "text": [
      "<class 'int'>\n",
      "<class 'str'>\n",
      "5\n",
      "23\n",
      "3.4\n"
     ]
    }
   ],
   "source": [
    "# Conversão de tipos \n",
    "\n",
    "a=2\n",
    "b='3'\n",
    "\n",
    "print(type (a)) \n",
    "print(type (b)) \n",
    "print(a + int(b))   \n",
    "print(str (a) + b)\n",
    "\n",
    "c= \"3.4\" \n",
    "\n",
    "print(float(c))\n",
    "\n"
   ]
  },
  {
   "cell_type": "code",
   "execution_count": 62,
   "metadata": {},
   "outputs": [
    {
     "name": "stdout",
     "output_type": "stream",
     "text": [
      "2\n",
      "<class 'int'>\n",
      "A resposta deve ser sim ou nao\n"
     ]
    }
   ],
   "source": [
    "a='2'\n",
    "a = int(a)\n",
    "print(a)\n",
    "print(type(a))\n",
    "\n",
    "res = input(\"Choveu hoje?\")\n",
    "\n",
    "if res == \"sim\":\n",
    "    choveu = True\n",
    "elif res == \"nao\":\n",
    "    choveu = False\n",
    "else:\n",
    "    choveu = 'Erro'\n",
    "    \n",
    "    \n",
    "\n",
    "# \"as roupas no varal estão \" + (\"molhadas\" if choveu else \"secas\")\n",
    "\n",
    "\n",
    "\n",
    "if choveu == True:\n",
    "    print(\"as roupas no varal estão molhadas\")\n",
    "elif choveu == False:\n",
    "    print(\"as roupas no varal estão secas\")\n",
    "else:\n",
    "    print(\"A resposta deve ser sim ou nao\")\n"
   ]
  },
  {
   "cell_type": "code",
   "execution_count": 95,
   "metadata": {},
   "outputs": [
    {
     "name": "stdout",
     "output_type": "stream",
     "text": [
      "PYTHON É UM LINGUAGEM EXCELENTE\n"
     ]
    },
    {
     "data": {
      "text/plain": [
       "['__add__',\n",
       " '__class__',\n",
       " '__contains__',\n",
       " '__delattr__',\n",
       " '__dir__',\n",
       " '__doc__',\n",
       " '__eq__',\n",
       " '__format__',\n",
       " '__ge__',\n",
       " '__getattribute__',\n",
       " '__getitem__',\n",
       " '__getnewargs__',\n",
       " '__getstate__',\n",
       " '__gt__',\n",
       " '__hash__',\n",
       " '__init__',\n",
       " '__init_subclass__',\n",
       " '__iter__',\n",
       " '__le__',\n",
       " '__len__',\n",
       " '__lt__',\n",
       " '__mod__',\n",
       " '__mul__',\n",
       " '__ne__',\n",
       " '__new__',\n",
       " '__reduce__',\n",
       " '__reduce_ex__',\n",
       " '__repr__',\n",
       " '__rmod__',\n",
       " '__rmul__',\n",
       " '__setattr__',\n",
       " '__sizeof__',\n",
       " '__str__',\n",
       " '__subclasshook__',\n",
       " 'capitalize',\n",
       " 'casefold',\n",
       " 'center',\n",
       " 'count',\n",
       " 'encode',\n",
       " 'endswith',\n",
       " 'expandtabs',\n",
       " 'find',\n",
       " 'format',\n",
       " 'format_map',\n",
       " 'index',\n",
       " 'isalnum',\n",
       " 'isalpha',\n",
       " 'isascii',\n",
       " 'isdecimal',\n",
       " 'isdigit',\n",
       " 'isidentifier',\n",
       " 'islower',\n",
       " 'isnumeric',\n",
       " 'isprintable',\n",
       " 'isspace',\n",
       " 'istitle',\n",
       " 'isupper',\n",
       " 'join',\n",
       " 'ljust',\n",
       " 'lower',\n",
       " 'lstrip',\n",
       " 'maketrans',\n",
       " 'partition',\n",
       " 'removeprefix',\n",
       " 'removesuffix',\n",
       " 'replace',\n",
       " 'rfind',\n",
       " 'rindex',\n",
       " 'rjust',\n",
       " 'rpartition',\n",
       " 'rsplit',\n",
       " 'rstrip',\n",
       " 'split',\n",
       " 'splitlines',\n",
       " 'startswith',\n",
       " 'strip',\n",
       " 'swapcase',\n",
       " 'title',\n",
       " 'translate',\n",
       " 'upper',\n",
       " 'zfill']"
      ]
     },
     "execution_count": 95,
     "metadata": {},
     "output_type": "execute_result"
    }
   ],
   "source": [
    "Frase = \"python é um linguagem excelente\"\n",
    "\n",
    "\"py\" not in Frase \n",
    "\n",
    "\"é\" in Frase \n",
    "\n",
    "len(Frase)\n",
    "Frase.lower()\n",
    "Frase.upper()\n",
    "\n",
    "Frase = Frase.upper() \n",
    "\n",
    "print(Frase)\n",
    "\n",
    "Frase.split()\n",
    "\n",
    "Frase.split(\"E\") \n",
    "\n",
    "dir()\n",
    "dir(str)"
   ]
  },
  {
   "cell_type": "code",
   "execution_count": 84,
   "metadata": {},
   "outputs": [
    {
     "data": {
      "text/plain": [
       "'987654321'"
      ]
     },
     "execution_count": 84,
     "metadata": {},
     "output_type": "execute_result"
    }
   ],
   "source": [
    "nome = \"Ana Paula\"\n",
    "nome[-5:]\n",
    "nome[2:5]\n",
    "nome[-4] \n",
    "\n",
    "numeros= \"123456789\"\n",
    "numeros[::2]\n",
    "numeros[::-1]"
   ]
  },
  {
   "cell_type": "code",
   "execution_count": 112,
   "metadata": {},
   "outputs": [
    {
     "data": {
      "text/plain": [
       "False"
      ]
     },
     "execution_count": 112,
     "metadata": {},
     "output_type": "execute_result"
    }
   ],
   "source": [
    "a=\"123\"\n",
    "b=\" de oliveira 4\"\n",
    "a+b\n",
    "a.__add__(b)\n",
    "str.__add__(a,b)\n",
    "(a).__gt__(b)\n",
    "\"1\" in a'\n",
    "isinstance(a,int)\n",
    " "
   ]
  },
  {
   "cell_type": "code",
   "execution_count": 147,
   "metadata": {},
   "outputs": [
    {
     "name": "stdout",
     "output_type": "stream",
     "text": [
      "['bia', 'teste', 'ana', 1, 'oi']\n"
     ]
    },
    {
     "data": {
      "text/plain": [
       "True"
      ]
     },
     "execution_count": 147,
     "metadata": {},
     "output_type": "execute_result"
    }
   ],
   "source": [
    "#Listas\n",
    "\n",
    "lista = []\n",
    "type(lista)\n",
    "dir(lista)\n",
    "#help list \n",
    "len(lista)\n",
    "\n",
    "nova_lista = [1, 5, \"ana\", \"bia\"]\n",
    "nova_lista \n",
    "nova_lista.remove(5)\n",
    "nova_lista\n",
    "nova_lista\n",
    "nova_lista[::-1]\n",
    "nova_lista.reverse ()\n",
    "nova_lista.append (\"oi\") \n",
    "nova_lista\n",
    "nova_lista.insert(1, \"teste\")\n",
    "print(nova_lista)\n",
    "nova_lista\n",
    "8 not in nova_lista\n"
   ]
  },
  {
   "cell_type": "code",
   "execution_count": null,
   "metadata": {},
   "outputs": [],
   "source": [
    "lista=[1, 5, \"rebeca\". \"Guilherma\", 3.1415]\n",
    "#lista "
   ]
  },
  {
   "cell_type": "code",
   "execution_count": 187,
   "metadata": {},
   "outputs": [
    {
     "data": {
      "text/plain": [
       "3"
      ]
     },
     "execution_count": 187,
     "metadata": {},
     "output_type": "execute_result"
    }
   ],
   "source": [
    "#tupla \n",
    "\n",
    "tupla = ()\n",
    "type(tupla)\n",
    "dir(tupla)\n",
    "cores = ('amerelo', 'vermelho', 'azul' )\n",
    "cores [0]\n",
    "cores [1:]\n",
    "cores[:]\n",
    "cores.index ('amerelo')\n",
    "cores.__len__ ()\n",
    "cores.count ('azul')\n",
    "len(cores)\n"
   ]
  },
  {
   "cell_type": "code",
   "execution_count": 195,
   "metadata": {},
   "outputs": [
    {
     "data": {
      "text/plain": [
       "['Ingles', 'Portugues']"
      ]
     },
     "execution_count": 195,
     "metadata": {},
     "output_type": "execute_result"
    }
   ],
   "source": [
    "#Dicionário \n",
    "\n",
    "pessoa = {\"nome\": \"Prof(a). Ana\", \"idade\": 38, \"cursos\": [\"Ingles\", \"Portugues\"]}\n",
    "type(pessoa)\n",
    "dir(dict)\n",
    "len(pessoa)\n",
    "pessoa[\"nome\"] \n",
    "pessoa[\"idade\"]\n",
    "pessoa[\"cursos\"]\n",
    "\n",
    "pessoa"
   ]
  }
 ],
 "metadata": {
  "kernelspec": {
   "display_name": "Python 3",
   "language": "python",
   "name": "python3"
  },
  "language_info": {
   "codemirror_mode": {
    "name": "ipython",
    "version": 3
   },
   "file_extension": ".py",
   "mimetype": "text/x-python",
   "name": "python",
   "nbconvert_exporter": "python",
   "pygments_lexer": "ipython3",
   "version": "3.12.4"
  }
 },
 "nbformat": 4,
 "nbformat_minor": 2
}
